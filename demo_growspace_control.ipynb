{
 "cells": [
  {
   "cell_type": "code",
   "execution_count": 11,
   "id": "3e047cde",
   "metadata": {},
   "outputs": [],
   "source": [
    "import cv2\n",
    "import numpy as np\n",
    "import gym\n",
    "import growspace "
   ]
  },
  {
   "cell_type": "markdown",
   "id": "bacfe51f",
   "metadata": {},
   "source": [
    "### Playing with GrowSpace\n",
    "- actions (keystrokes) are explained in the funtion below 'key2action'"
   ]
  },
  {
   "cell_type": "code",
   "execution_count": 12,
   "id": "2f00e54a",
   "metadata": {},
   "outputs": [],
   "source": [
    "def key2action(key):\n",
    "        if key == ord('a'):\n",
    "            return 0 # move left\n",
    "        elif key == ord('d'):\n",
    "            return 1 # move right\n",
    "        elif key == ord('s'):\n",
    "            return 4 # stay in place\n",
    "        elif key == ord('w'):\n",
    "            return 2\n",
    "        elif key == ord('x'):\n",
    "            return 3\n",
    "        elif key == ord('q'):\n",
    "            return \"stop\"\n",
    "        else:\n",
    "            return None\n",
    "        \n",
    "\n",
    "def kill_window():\n",
    "    \"\"\"why twice? xd\"\"\"\n",
    "    for _ in range(2):\n",
    "        cv2.waitKey(1)\n",
    "        cv2.destroyWindow('plant')        "
   ]
  },
  {
   "cell_type": "code",
   "execution_count": 13,
   "id": "e017fd6b",
   "metadata": {
    "scrolled": true
   },
   "outputs": [
    {
     "name": "stdout",
     "output_type": "stream",
     "text": [
      "reward after step #0 0.022311425889318497\n",
      "reward after step #1 0.022541511787445477\n",
      "reward after step #2 0.023409255620868763\n",
      "reward after step #3 0.023409255620868763\n",
      "reward after step #4 0.023409255620868763\n",
      "reward after step #5 0.02614220510037188\n",
      "reward after step #6 0.02915266055822456\n",
      "reward after step #7 0.032688816558384154\n",
      "reward after step #8 0.032688816558384154\n",
      "reward after step #9 0.034190481983476254\n",
      "reward after step #10 0.034190481983476254\n",
      "amount of rewards: 0.3041341672816875\n",
      "mean: 0.3041341672816875\n",
      "amount of rewards: 0.3041341672816875\n"
     ]
    }
   ],
   "source": [
    "# run this cell to visualize how the plant changes according to the keystrokes\n",
    "\n",
    "env = gym.make('GrowSpaceEnv-Control-v0')\n",
    "\n",
    "rewards = []\n",
    "rewards_mean = []\n",
    "\n",
    "run = True\n",
    "while run:\n",
    "    env.reset()\n",
    "    img = env.get_observation(debug_show_scatter=True)\n",
    "\n",
    "    cv2.imshow(\"plant\", img)\n",
    "    rewards = []\n",
    "    \n",
    "    for step in range(50):\n",
    "        action = key2action(cv2.waitKey(-1))\n",
    "        \n",
    "        if action == \"stop\":\n",
    "            run = False\n",
    "            env.close()\n",
    "            break\n",
    "        if action is None:\n",
    "            quit()\n",
    "\n",
    "        b, t, c, f = env.step(action)\n",
    "        rewards.append(t)\n",
    "        print(f\"reward after step #{step} {t}\")\n",
    "        cv2.imshow(\"plant\", env.get_observation(debug_show_scatter=True))\n",
    "    total = sum(rewards)\n",
    "\n",
    "    rewards_mean.append(total)\n",
    "    av = np.mean(rewards_mean)\n",
    "    print(\"amount of rewards:\", total)\n",
    "    print('mean:', av)\n",
    "    print(\"amount of rewards:\", total)"
   ]
  },
  {
   "cell_type": "code",
   "execution_count": 14,
   "id": "410a040c",
   "metadata": {},
   "outputs": [],
   "source": [
    "kill_window()"
   ]
  },
  {
   "cell_type": "markdown",
   "id": "c1230c81",
   "metadata": {},
   "source": [
    "### Training PPO to make the plant growth towards the target (red dot)"
   ]
  },
  {
   "cell_type": "code",
   "execution_count": 2,
   "id": "156e703a",
   "metadata": {},
   "outputs": [
    {
     "name": "stderr",
     "output_type": "stream",
     "text": [
      "/Users/ioneliabuzatu/Desktop/macos-growspace/venv-growspace/lib/python3.9/site-packages/tqdm/auto.py:22: TqdmWarning: IProgress not found. Please update jupyter and ipywidgets. See https://ipywidgets.readthedocs.io/en/stable/user_install.html\n",
      "  from .autonotebook import tqdm as notebook_tqdm\n"
     ]
    }
   ],
   "source": [
    "from stable_baselines3 import PPO"
   ]
  },
  {
   "cell_type": "code",
   "execution_count": 4,
   "id": "94400d13",
   "metadata": {},
   "outputs": [
    {
     "name": "stdout",
     "output_type": "stream",
     "text": [
      "Using cpu device\n",
      "Wrapping the env with a `Monitor` wrapper\n",
      "Wrapping the env in a DummyVecEnv.\n",
      "Wrapping the env in a VecTransposeImage.\n",
      "---------------------------------\n",
      "| rollout/           |          |\n",
      "|    ep_len_mean     | 50       |\n",
      "|    ep_rew_mean     | 3.73     |\n",
      "| time/              |          |\n",
      "|    fps             | 74       |\n",
      "|    iterations      | 1        |\n",
      "|    time_elapsed    | 27       |\n",
      "|    total_timesteps | 2048     |\n",
      "---------------------------------\n"
     ]
    }
   ],
   "source": [
    "env = gym.make('GrowSpaceEnv-Control-v0')\n",
    "\n",
    "model = PPO(\"MlpPolicy\", env, verbose=1)\n",
    "model.learn(total_timesteps=5)\n",
    "\n",
    "obs = env.reset()\n",
    "for i in range(1000):\n",
    "    action, _states = model.predict(obs, deterministic=True)\n",
    "    obs, reward, done, info = env.step(action)\n",
    "    env.render()\n",
    "    if done:\n",
    "      obs = env.reset()\n",
    "\n",
    "env.close()"
   ]
  },
  {
   "cell_type": "code",
   "execution_count": 20,
   "id": "15de3eaf",
   "metadata": {},
   "outputs": [],
   "source": [
    "kill_window()"
   ]
  }
 ],
 "metadata": {
  "kernelspec": {
   "display_name": "venv-growspace",
   "language": "python",
   "name": "venv-growspace"
  },
  "language_info": {
   "codemirror_mode": {
    "name": "ipython",
    "version": 3
   },
   "file_extension": ".py",
   "mimetype": "text/x-python",
   "name": "python",
   "nbconvert_exporter": "python",
   "pygments_lexer": "ipython3",
   "version": "3.9.1"
  }
 },
 "nbformat": 4,
 "nbformat_minor": 5
}
