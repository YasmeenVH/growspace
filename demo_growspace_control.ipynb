{
 "cells": [
  {
   "cell_type": "code",
   "execution_count": null,
   "id": "1063c8cf",
   "metadata": {},
   "outputs": [],
   "source": [
    "import cv2\n",
    "import numpy as np\n",
    "\n",
    "import gym\n",
    "import growspace "
   ]
  },
  {
   "cell_type": "code",
   "execution_count": 10,
   "id": "56f20882",
   "metadata": {},
   "outputs": [],
   "source": [
    "env = gym.make('GrowSpaceEnv-Control-v0')"
   ]
  },
  {
   "cell_type": "code",
   "execution_count": 4,
   "id": "186440f1",
   "metadata": {},
   "outputs": [],
   "source": [
    "def key2action(key):\n",
    "        if key == ord('a'):\n",
    "            return 0 # move left\n",
    "        elif key == ord('d'):\n",
    "            return 1 # move right\n",
    "        elif key == ord('s'):\n",
    "            return 4 # stay in place\n",
    "        elif key == ord('w'):\n",
    "            return 2\n",
    "        elif key == ord('x'):\n",
    "            return 3\n",
    "        else:\n",
    "            return None"
   ]
  },
  {
   "cell_type": "code",
   "execution_count": 9,
   "id": "95a869cf",
   "metadata": {
    "scrolled": true
   },
   "outputs": [
    {
     "name": "stdout",
     "output_type": "stream",
     "text": [
      "0.0330366023670321\n",
      "0.036504130858654185\n",
      "0.04944439988346215\n",
      "0.0575778619290929\n",
      "0.0575778619290929\n",
      "0.0575778619290929\n",
      "0.0575778619290929\n",
      "0.0575778619290929\n",
      "0.0575778619290929\n",
      "0.0575778619290929\n",
      "0.0575778619290929\n",
      "0.0575778619290929\n",
      "0.0575778619290929\n",
      "0.0575778619290929\n",
      "0.06778453815809603\n",
      "0.06778453815809603\n",
      "0.06778453815809603\n",
      "0.08088751353324045\n",
      "0.08088751353324045\n",
      "0.12992492508368572\n",
      "0.12992492508368572\n",
      "0.12992492508368572\n",
      "0.2982749931359466\n",
      "0.2982749931359466\n",
      "0.2982749931359466\n",
      "0.2982749931359466\n",
      "0.2982749931359466\n",
      "0.2982749931359466\n",
      "0.2982749931359466\n",
      "0.2982749931359466\n",
      "0.2982749931359466\n",
      "0.2982749931359466\n",
      "0.2982749931359466\n",
      "0.2982749931359466\n",
      "0.2982749931359466\n",
      "0.2982749931359466\n",
      "0.2982749931359466\n",
      "0.2982749931359466\n",
      "0.2982749931359466\n",
      "0.2982749931359466\n",
      "0.2982749931359466\n",
      "0.2982749931359466\n",
      "0.2982749931359466\n",
      "0.2982749931359466\n",
      "0.2982749931359466\n",
      "0.2982749931359466\n",
      "0.2982749931359466\n",
      "0.3125\n",
      "0.3125\n",
      "0.3125\n"
     ]
    },
    {
     "ename": "NameError",
     "evalue": "name 'np' is not defined",
     "output_type": "error",
     "traceback": [
      "\u001b[0;31m---------------------------------------------------------------------------\u001b[0m",
      "\u001b[0;31mNameError\u001b[0m                                 Traceback (most recent call last)",
      "Input \u001b[0;32mIn [9]\u001b[0m, in \u001b[0;36m<cell line: 3>\u001b[0;34m()\u001b[0m\n\u001b[1;32m     19\u001b[0m total \u001b[38;5;241m=\u001b[39m \u001b[38;5;28msum\u001b[39m(rewards)\n\u001b[1;32m     21\u001b[0m rewards_mean\u001b[38;5;241m.\u001b[39mappend(total)\n\u001b[0;32m---> 22\u001b[0m av \u001b[38;5;241m=\u001b[39m \u001b[43mnp\u001b[49m\u001b[38;5;241m.\u001b[39mmean(rewards_mean)\n\u001b[1;32m     23\u001b[0m \u001b[38;5;28mprint\u001b[39m(\u001b[38;5;124m\"\u001b[39m\u001b[38;5;124mamount of rewards:\u001b[39m\u001b[38;5;124m\"\u001b[39m, total)\n\u001b[1;32m     24\u001b[0m \u001b[38;5;28mprint\u001b[39m(\u001b[38;5;124m'\u001b[39m\u001b[38;5;124mmean:\u001b[39m\u001b[38;5;124m'\u001b[39m, av)\n",
      "\u001b[0;31mNameError\u001b[0m: name 'np' is not defined"
     ]
    }
   ],
   "source": [
    "rewards = []\n",
    "rewards_mean = []\n",
    "while True:\n",
    "    env.reset()\n",
    "    img = env.get_observation(debug_show_scatter=True)\n",
    "\n",
    "    cv2.imshow(\"plant\", img)\n",
    "    rewards = []\n",
    "    for _ in range(50):\n",
    "        action = key2action(cv2.waitKey(-1))\n",
    "        if action is None:\n",
    "            quit()\n",
    "\n",
    "        b,t,c,f = env.step(action)\n",
    "        #print(f[\"new_branches\"])\n",
    "        rewards.append(t)\n",
    "        print(t)\n",
    "        cv2.imshow(\"plant\", env.get_observation(debug_show_scatter=True))\n",
    "    total = sum(rewards)\n",
    "\n",
    "    rewards_mean.append(total)\n",
    "    av = np.mean(rewards_mean)\n",
    "    print(\"amount of rewards:\", total)\n",
    "    print('mean:', av)\n",
    "    print(\"amount of rewards:\", total)"
   ]
  },
  {
   "cell_type": "code",
   "execution_count": null,
   "id": "03e46866",
   "metadata": {},
   "outputs": [],
   "source": []
  }
 ],
 "metadata": {
  "kernelspec": {
   "display_name": "conda_growspace",
   "language": "python",
   "name": "conda_growspace"
  },
  "language_info": {
   "codemirror_mode": {
    "name": "ipython",
    "version": 3
   },
   "file_extension": ".py",
   "mimetype": "text/x-python",
   "name": "python",
   "nbconvert_exporter": "python",
   "pygments_lexer": "ipython3",
   "version": "3.10.4"
  }
 },
 "nbformat": 4,
 "nbformat_minor": 5
}
